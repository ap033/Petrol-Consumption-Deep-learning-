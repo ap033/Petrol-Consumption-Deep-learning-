{
  "nbformat": 4,
  "nbformat_minor": 0,
  "metadata": {
    "colab": {
      "name": "petrol_consumption_casestudy (1).ipynb",
      "provenance": [],
      "collapsed_sections": []
    },
    "kernelspec": {
      "name": "python3",
      "display_name": "Python 3"
    }
  },
  "cells": [
    {
      "cell_type": "code",
      "metadata": {
        "id": "yoT71pGSOZkb"
      },
      "source": [
        "import numpy as np\n",
        "import pandas as pd\n",
        "import matplotlib.pyplot as plt\n",
        "import seaborn as sns"
      ],
      "execution_count": null,
      "outputs": []
    },
    {
      "cell_type": "code",
      "metadata": {
        "colab": {
          "resources": {
            "http://localhost:8080/nbextensions/google.colab/files.js": {
              "data": "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",
              "ok": true,
              "headers": [
                [
                  "content-type",
                  "application/javascript"
                ]
              ],
              "status": 200,
              "status_text": ""
            }
          },
          "base_uri": "https://localhost:8080/",
          "height": 109
        },
        "id": "dscGAFJHObKm",
        "outputId": "fad47a54-6c6f-40af-f3d6-34926e3332ff"
      },
      "source": [
        "#to upload .csv file from local disk\n",
        "from google.colab import files\n",
        "files.upload()"
      ],
      "execution_count": null,
      "outputs": [
        {
          "output_type": "display_data",
          "data": {
            "text/html": [
              "\n",
              "     <input type=\"file\" id=\"files-14e8ff65-8eda-4980-bf54-7e808612f2ee\" name=\"files[]\" multiple disabled\n",
              "        style=\"border:none\" />\n",
              "     <output id=\"result-14e8ff65-8eda-4980-bf54-7e808612f2ee\">\n",
              "      Upload widget is only available when the cell has been executed in the\n",
              "      current browser session. Please rerun this cell to enable.\n",
              "      </output>\n",
              "      <script src=\"/nbextensions/google.colab/files.js\"></script> "
            ],
            "text/plain": [
              "<IPython.core.display.HTML object>"
            ]
          },
          "metadata": {
            "tags": []
          }
        },
        {
          "output_type": "stream",
          "text": [
            "Saving petrol_consumption.csv to petrol_consumption.csv\n"
          ],
          "name": "stdout"
        },
        {
          "output_type": "execute_result",
          "data": {
            "text/plain": [
              "{'petrol_consumption.csv': b'Petrol_tax,Average_income,Paved_Highways,Population_Driver_licence(%),Petrol_Consumption\\r\\n9.00,3571,1976,0.5250,541\\r\\n9.00,4092,1250,0.5720,524\\r\\n9.00,3865,1586,0.5800,561\\r\\n7.50,4870,2351,0.5290,414\\r\\n8.00,4399,431,0.5440,410\\r\\n10.00,5342,1333,0.5710,457\\r\\n8.00,5319,11868,0.4510,344\\r\\n8.00,5126,2138,0.5530,467\\r\\n8.00,4447,8577,0.5290,464\\r\\n7.00,4512,8507,0.5520,498\\r\\n8.00,4391,5939,0.5300,580\\r\\n7.50,5126,14186,0.5250,471\\r\\n7.00,4817,6930,0.5740,525\\r\\n7.00,4207,6580,0.5450,508\\r\\n7.00,4332,8159,0.6080,566\\r\\n7.00,4318,10340,0.5860,635\\r\\n7.00,4206,8508,0.5720,603\\r\\n7.00,3718,4725,0.5400,714\\r\\n7.00,4716,5915,0.7240,865\\r\\n8.50,4341,6010,0.6770,640\\r\\n7.00,4593,7834,0.6630,649\\r\\n8.00,4983,602,0.6020,540\\r\\n9.00,4897,2449,0.5110,464\\r\\n9.00,4258,4686,0.5170,547\\r\\n8.50,4574,2619,0.5510,460\\r\\n9.00,3721,4746,0.5440,566\\r\\n8.00,3448,5399,0.5480,577\\r\\n7.50,3846,9061,0.5790,631\\r\\n8.00,4188,5975,0.5630,574\\r\\n9.00,3601,4650,0.4930,534\\r\\n7.00,3640,6905,0.5180,571\\r\\n7.00,3333,6594,0.5130,554\\r\\n8.00,3063,6524,0.5780,577\\r\\n7.50,3357,4121,0.5470,628\\r\\n8.00,3528,3495,0.4870,487\\r\\n6.58,3802,7834,0.6290,644\\r\\n5.00,4045,17782,0.5660,640\\r\\n7.00,3897,6385,0.5860,704\\r\\n8.50,3635,3274,0.6630,648\\r\\n7.00,4345,3905,0.6720,968\\r\\n7.00,4449,4639,0.6260,587\\r\\n7.00,3656,3985,0.5630,699\\r\\n7.00,4300,3635,0.6030,632\\r\\n7.00,3745,2611,0.5080,591\\r\\n6.00,5215,2302,0.6720,782\\r\\n9.00,4476,3942,0.5710,510\\r\\n7.00,4296,4083,0.6230,610\\r\\n7.00,5002,9794,0.5930,524\\r\\n'}"
            ]
          },
          "metadata": {
            "tags": []
          },
          "execution_count": 2
        }
      ]
    },
    {
      "cell_type": "code",
      "metadata": {
        "id": "VG2ezA5dOzny"
      },
      "source": [
        "#To load dataset\n",
        "df=pd.read_csv(\"petrol_consumption.csv\")"
      ],
      "execution_count": null,
      "outputs": []
    },
    {
      "cell_type": "code",
      "metadata": {
        "colab": {
          "base_uri": "https://localhost:8080/",
          "height": 204
        },
        "id": "DKGb6vWpPlEV",
        "outputId": "76be47f1-a6aa-4bfa-f6af-9872fcb2b704"
      },
      "source": [
        "#to show first 5 records\n",
        "df.head()"
      ],
      "execution_count": null,
      "outputs": [
        {
          "output_type": "execute_result",
          "data": {
            "text/html": [
              "<div>\n",
              "<style scoped>\n",
              "    .dataframe tbody tr th:only-of-type {\n",
              "        vertical-align: middle;\n",
              "    }\n",
              "\n",
              "    .dataframe tbody tr th {\n",
              "        vertical-align: top;\n",
              "    }\n",
              "\n",
              "    .dataframe thead th {\n",
              "        text-align: right;\n",
              "    }\n",
              "</style>\n",
              "<table border=\"1\" class=\"dataframe\">\n",
              "  <thead>\n",
              "    <tr style=\"text-align: right;\">\n",
              "      <th></th>\n",
              "      <th>Petrol_tax</th>\n",
              "      <th>Average_income</th>\n",
              "      <th>Paved_Highways</th>\n",
              "      <th>Population_Driver_licence(%)</th>\n",
              "      <th>Petrol_Consumption</th>\n",
              "    </tr>\n",
              "  </thead>\n",
              "  <tbody>\n",
              "    <tr>\n",
              "      <th>0</th>\n",
              "      <td>9.0</td>\n",
              "      <td>3571</td>\n",
              "      <td>1976</td>\n",
              "      <td>0.525</td>\n",
              "      <td>541</td>\n",
              "    </tr>\n",
              "    <tr>\n",
              "      <th>1</th>\n",
              "      <td>9.0</td>\n",
              "      <td>4092</td>\n",
              "      <td>1250</td>\n",
              "      <td>0.572</td>\n",
              "      <td>524</td>\n",
              "    </tr>\n",
              "    <tr>\n",
              "      <th>2</th>\n",
              "      <td>9.0</td>\n",
              "      <td>3865</td>\n",
              "      <td>1586</td>\n",
              "      <td>0.580</td>\n",
              "      <td>561</td>\n",
              "    </tr>\n",
              "    <tr>\n",
              "      <th>3</th>\n",
              "      <td>7.5</td>\n",
              "      <td>4870</td>\n",
              "      <td>2351</td>\n",
              "      <td>0.529</td>\n",
              "      <td>414</td>\n",
              "    </tr>\n",
              "    <tr>\n",
              "      <th>4</th>\n",
              "      <td>8.0</td>\n",
              "      <td>4399</td>\n",
              "      <td>431</td>\n",
              "      <td>0.544</td>\n",
              "      <td>410</td>\n",
              "    </tr>\n",
              "  </tbody>\n",
              "</table>\n",
              "</div>"
            ],
            "text/plain": [
              "   Petrol_tax  Average_income  ...  Population_Driver_licence(%)  Petrol_Consumption\n",
              "0         9.0            3571  ...                         0.525                 541\n",
              "1         9.0            4092  ...                         0.572                 524\n",
              "2         9.0            3865  ...                         0.580                 561\n",
              "3         7.5            4870  ...                         0.529                 414\n",
              "4         8.0            4399  ...                         0.544                 410\n",
              "\n",
              "[5 rows x 5 columns]"
            ]
          },
          "metadata": {
            "tags": []
          },
          "execution_count": 4
        }
      ]
    },
    {
      "cell_type": "code",
      "metadata": {
        "id": "uZPp2r0ZPuAI"
      },
      "source": [
        "#this dataset is a regression problem we want to predict contineous numerical \n",
        "#value "
      ],
      "execution_count": null,
      "outputs": []
    },
    {
      "cell_type": "code",
      "metadata": {
        "colab": {
          "base_uri": "https://localhost:8080/"
        },
        "id": "3PK2gPlBQ7NT",
        "outputId": "caa0f3e8-4cb5-47b2-f58f-01e05b8aaa89"
      },
      "source": [
        "#to show No. of records\n",
        "df.shape"
      ],
      "execution_count": null,
      "outputs": [
        {
          "output_type": "execute_result",
          "data": {
            "text/plain": [
              "(48, 5)"
            ]
          },
          "metadata": {
            "tags": []
          },
          "execution_count": 6
        }
      ]
    },
    {
      "cell_type": "code",
      "metadata": {
        "colab": {
          "base_uri": "https://localhost:8080/"
        },
        "id": "kh4GyEmERCNR",
        "outputId": "d730e22f-8b45-4c73-8a57-033d6a89431a"
      },
      "source": [
        "#check null values\n",
        "df.isnull().sum()"
      ],
      "execution_count": null,
      "outputs": [
        {
          "output_type": "execute_result",
          "data": {
            "text/plain": [
              "Petrol_tax                      0\n",
              "Average_income                  0\n",
              "Paved_Highways                  0\n",
              "Population_Driver_licence(%)    0\n",
              "Petrol_Consumption              0\n",
              "dtype: int64"
            ]
          },
          "metadata": {
            "tags": []
          },
          "execution_count": 7
        }
      ]
    },
    {
      "cell_type": "code",
      "metadata": {
        "colab": {
          "base_uri": "https://localhost:8080/"
        },
        "id": "UWXBg-KfRT8e",
        "outputId": "a65c8c14-1e72-43ff-bac3-dc7ecef13898"
      },
      "source": [
        "df.info()"
      ],
      "execution_count": null,
      "outputs": [
        {
          "output_type": "stream",
          "text": [
            "<class 'pandas.core.frame.DataFrame'>\n",
            "RangeIndex: 48 entries, 0 to 47\n",
            "Data columns (total 5 columns):\n",
            " #   Column                        Non-Null Count  Dtype  \n",
            "---  ------                        --------------  -----  \n",
            " 0   Petrol_tax                    48 non-null     float64\n",
            " 1   Average_income                48 non-null     int64  \n",
            " 2   Paved_Highways                48 non-null     int64  \n",
            " 3   Population_Driver_licence(%)  48 non-null     float64\n",
            " 4   Petrol_Consumption            48 non-null     int64  \n",
            "dtypes: float64(2), int64(3)\n",
            "memory usage: 2.0 KB\n"
          ],
          "name": "stdout"
        }
      ]
    },
    {
      "cell_type": "code",
      "metadata": {
        "id": "VcuXIq0OSg4u"
      },
      "source": [
        "#Separate X and Y from dataset \n",
        "#means select input features means X and output means target Y from dataset df\n",
        "X=df.drop(\"Petrol_Consumption\",axis=1)#all features copy in X apart from Petrol_Consumption\n",
        "Y=df[\"Petrol_Consumption\"] #target"
      ],
      "execution_count": null,
      "outputs": []
    },
    {
      "cell_type": "markdown",
      "metadata": {
        "id": "oH-mt_44Utxn"
      },
      "source": [
        "train test slit means divide the data into 80%-20% from train and test"
      ]
    },
    {
      "cell_type": "code",
      "metadata": {
        "id": "HqN6AXhdTL7d"
      },
      "source": [
        "from sklearn.model_selection import train_test_split\n",
        "X_train, X_test,Y_train, Y_test = train_test_split(X, Y, test_size=0.2, random_state=0)"
      ],
      "execution_count": null,
      "outputs": []
    },
    {
      "cell_type": "code",
      "metadata": {
        "colab": {
          "base_uri": "https://localhost:8080/",
          "height": 204
        },
        "id": "VuM40ydNVL9a",
        "outputId": "129f9c24-f520-4357-be34-42df89adae22"
      },
      "source": [
        "#scaling : apply standardscaler on X_train and X_test formula z_score\n",
        "X_train.head()"
      ],
      "execution_count": null,
      "outputs": [
        {
          "output_type": "execute_result",
          "data": {
            "text/html": [
              "<div>\n",
              "<style scoped>\n",
              "    .dataframe tbody tr th:only-of-type {\n",
              "        vertical-align: middle;\n",
              "    }\n",
              "\n",
              "    .dataframe tbody tr th {\n",
              "        vertical-align: top;\n",
              "    }\n",
              "\n",
              "    .dataframe thead th {\n",
              "        text-align: right;\n",
              "    }\n",
              "</style>\n",
              "<table border=\"1\" class=\"dataframe\">\n",
              "  <thead>\n",
              "    <tr style=\"text-align: right;\">\n",
              "      <th></th>\n",
              "      <th>Petrol_tax</th>\n",
              "      <th>Average_income</th>\n",
              "      <th>Paved_Highways</th>\n",
              "      <th>Population_Driver_licence(%)</th>\n",
              "    </tr>\n",
              "  </thead>\n",
              "  <tbody>\n",
              "    <tr>\n",
              "      <th>11</th>\n",
              "      <td>7.5</td>\n",
              "      <td>5126</td>\n",
              "      <td>14186</td>\n",
              "      <td>0.525</td>\n",
              "    </tr>\n",
              "    <tr>\n",
              "      <th>31</th>\n",
              "      <td>7.0</td>\n",
              "      <td>3333</td>\n",
              "      <td>6594</td>\n",
              "      <td>0.513</td>\n",
              "    </tr>\n",
              "    <tr>\n",
              "      <th>33</th>\n",
              "      <td>7.5</td>\n",
              "      <td>3357</td>\n",
              "      <td>4121</td>\n",
              "      <td>0.547</td>\n",
              "    </tr>\n",
              "    <tr>\n",
              "      <th>27</th>\n",
              "      <td>7.5</td>\n",
              "      <td>3846</td>\n",
              "      <td>9061</td>\n",
              "      <td>0.579</td>\n",
              "    </tr>\n",
              "    <tr>\n",
              "      <th>47</th>\n",
              "      <td>7.0</td>\n",
              "      <td>5002</td>\n",
              "      <td>9794</td>\n",
              "      <td>0.593</td>\n",
              "    </tr>\n",
              "  </tbody>\n",
              "</table>\n",
              "</div>"
            ],
            "text/plain": [
              "    Petrol_tax  Average_income  Paved_Highways  Population_Driver_licence(%)\n",
              "11         7.5            5126           14186                         0.525\n",
              "31         7.0            3333            6594                         0.513\n",
              "33         7.5            3357            4121                         0.547\n",
              "27         7.5            3846            9061                         0.579\n",
              "47         7.0            5002            9794                         0.593"
            ]
          },
          "metadata": {
            "tags": []
          },
          "execution_count": 11
        }
      ]
    },
    {
      "cell_type": "code",
      "metadata": {
        "id": "eynHMeo7Vj1E"
      },
      "source": [
        "#call StandardScaler class\n",
        "from sklearn.preprocessing import StandardScaler"
      ],
      "execution_count": null,
      "outputs": []
    },
    {
      "cell_type": "code",
      "metadata": {
        "id": "PoLegRVWIidL"
      },
      "source": [
        "#create object of StandardScaler class\n",
        "ss=StandardScaler()"
      ],
      "execution_count": null,
      "outputs": []
    },
    {
      "cell_type": "code",
      "metadata": {
        "id": "pRynQy2LE-9e"
      },
      "source": [
        "X_train=ss.fit_transform(X_train) #fit_tranform() inbuilt method of StandardScaler class\n",
        "X_test=ss.transform(X_test) #transform() inbuilt method of StandardScaler class"
      ],
      "execution_count": null,
      "outputs": []
    },
    {
      "cell_type": "code",
      "metadata": {
        "colab": {
          "base_uri": "https://localhost:8080/"
        },
        "id": "BTI4COVwGOug",
        "outputId": "fbab1a8c-0831-4251-e8aa-e1a0c84729ff"
      },
      "source": [
        "X_train"
      ],
      "execution_count": null,
      "outputs": [
        {
          "output_type": "execute_result",
          "data": {
            "text/plain": [
              "array([[-1.32525691e-01,  1.50577399e+00,  2.25854636e+00,\n",
              "        -9.15791057e-01],\n",
              "       [-6.28192647e-01, -1.83367022e+00,  2.12333843e-01,\n",
              "        -1.12852703e+00],\n",
              "       [-1.32525691e-01, -1.78897047e+00, -4.54194551e-01,\n",
              "        -5.25775100e-01],\n",
              "       [-1.32525691e-01, -8.78212954e-01,  8.77245103e-01,\n",
              "         4.15208375e-02],\n",
              "       [-6.28192647e-01,  1.27482526e+00,  1.07480487e+00,\n",
              "         2.89712810e-01],\n",
              "       [ 1.35447518e+00, -8.42825648e-01, -1.13743332e+00,\n",
              "         5.92488356e-02],\n",
              "       [-6.28192647e-01, -4.00925436e-02, -4.64436395e-01,\n",
              "         8.21552752e-01],\n",
              "       [-6.28192647e-01,  7.42153173e-01,  2.93282707e-02,\n",
              "         2.61208055e+00],\n",
              "       [-6.28192647e-01,  8.82232011e-04,  1.22196399e+00,\n",
              "         1.65616824e-01],\n",
              "       [ 3.63141265e-01, -2.41241442e-01,  4.54996025e-02,\n",
              "        -2.42127131e-01],\n",
              "       [ 1.35447518e+00,  1.07926383e+00, -9.04835665e-01,\n",
              "        -1.16398303e+00],\n",
              "       [-6.28192647e-01, -2.07716626e-01,  7.28199328e-01,\n",
              "        -8.25751488e-02],\n",
              "       [-6.28192647e-01, -1.23208602e+00, -4.90849570e-01,\n",
              "        -2.42127131e-01],\n",
              "       [-6.28192647e-01,  5.13066928e-01,  5.46541367e-01,\n",
              "         1.53067267e+00],\n",
              "       [-6.28192647e-01, -3.26425844e-02, -5.85182339e-01,\n",
              "         4.66992791e-01],\n",
              "       [ 3.63141265e-01,  2.41143416e-01,  7.46796360e-01,\n",
              "        -8.44879065e-01],\n",
              "       [-6.28192647e-01, -2.05854136e-01,  2.08560532e-01,\n",
              "        -5.61231096e-01],\n",
              "       [ 1.35447518e+00, -1.11102418e+00, -2.85743178e-01,\n",
              "        -5.78959094e-01],\n",
              "       [ 2.34580909e+00,  1.90807179e+00, -1.20562244e+00,\n",
              "        -1.00303147e-01],\n",
              "       [-6.28192647e-01, -1.11661165e+00, -2.91403144e-01,\n",
              "        -6.49871086e-01],\n",
              "       [-1.04455289e+00, -9.60162506e-01,  5.46541367e-01,\n",
              "         9.27920740e-01],\n",
              "       [-6.28192647e-01,  2.69570892e-02,  6.34136081e-01,\n",
              "         5.55632781e-01],\n",
              "       [ 8.58808221e-01, -1.27119830e+00, -6.82479852e-01,\n",
              "         1.53067267e+00],\n",
              "       [ 1.35447518e+00, -4.20040463e-01, -1.22799278e+00,\n",
              "        -8.25751488e-02],\n",
              "       [-6.28192647e-01,  9.30264643e-01,  3.02893301e-01,\n",
              "        -4.71191527e-02],\n",
              "       [-6.28192647e-01, -1.06632442e+00, -8.61173069e-01,\n",
              "        -1.21716702e+00],\n",
              "       [ 8.58808221e-01,  4.77679621e-01, -8.59016891e-01,\n",
              "        -4.54863108e-01],\n",
              "       [ 3.63141265e-01,  1.86523452e+00,  1.63379391e+00,\n",
              "        -2.22766291e+00],\n",
              "       [ 1.35447518e+00, -1.10867156e-01, -3.01914510e-01,\n",
              "        -1.05761504e+00],\n",
              "       [-2.61086047e+00, -5.07577484e-01,  3.22774818e+00,\n",
              "        -1.88943137e-01],\n",
              "       [ 3.63141265e-01,  1.23943795e+00, -1.40264316e+00,\n",
              "         4.49264793e-01],\n",
              "       [ 8.58808221e-01,  4.37194975e-02,  5.49328794e-02,\n",
              "         1.77886465e+00],\n",
              "       [-6.28192647e-01,  3.62205254e-01,  7.27929806e-01,\n",
              "        -4.37135110e-01],\n",
              "       [-6.28192647e-01,  5.11694567e-02, -5.12411346e-01,\n",
              "         1.69022466e+00],\n",
              "       [ 1.35447518e+00,  2.95155621e-01, -5.02439024e-01,\n",
              "        -1.00303147e-01],\n",
              "       [-1.32525691e-01,  1.02897660e+00, -9.31248840e-01,\n",
              "        -8.44879065e-01],\n",
              "       [ 1.35447518e+00, -1.39039765e+00, -1.03231966e+00,\n",
              "        -9.15791057e-01],\n",
              "       [-1.61952656e+00,  1.67153558e+00, -9.44455428e-01,\n",
              "         1.69022466e+00]])"
            ]
          },
          "metadata": {
            "tags": []
          },
          "execution_count": 15
        }
      ]
    },
    {
      "cell_type": "code",
      "metadata": {
        "colab": {
          "base_uri": "https://localhost:8080/"
        },
        "id": "oTFtKIZRIsRR",
        "outputId": "c68409f4-132a-4169-ab94-88ce290b1ce2"
      },
      "source": [
        "X_test"
      ],
      "execution_count": null,
      "outputs": [
        {
          "output_type": "execute_result",
          "data": {
            "text/plain": [
              "array([[ 1.35447518, -1.33452296, -0.31161731, -1.48308699],\n",
              "       [ 0.36314126,  0.15174391, -1.44873146, -0.57895909],\n",
              "       [ 0.36314126, -1.6194839 , -0.10974518, -0.5080471 ],\n",
              "       [-0.62819265, -1.26188585,  0.29615525, -1.03988704],\n",
              "       [ 0.36314126, -2.33654247,  0.19346729,  0.02379284],\n",
              "       [-0.62819265, -0.78322597,  0.1560037 ,  0.16561682],\n",
              "       [ 0.36314126, -1.47048471, -0.62291545, -1.58945498],\n",
              "       [-0.62819265,  0.2448684 , -0.31458205,  0.87473675],\n",
              "       [ 0.36314126,  1.50577399, -0.98865707, -0.41940711],\n",
              "       [ 0.36314126,  0.13684399,  0.0357968 , -0.82715107]])"
            ]
          },
          "metadata": {
            "tags": []
          },
          "execution_count": 16
        }
      ]
    },
    {
      "cell_type": "code",
      "metadata": {
        "id": "fqkbJjY3Itiw"
      },
      "source": [
        "#create Neural network \n",
        "import tensorflow as tf"
      ],
      "execution_count": null,
      "outputs": []
    },
    {
      "cell_type": "code",
      "metadata": {
        "id": "yiBeS9bSNgdA"
      },
      "source": [
        "#create the object of Sequential class\n",
        "model=tf.keras.Sequential([\n",
        "       tf.keras.layers.Dense(3,activation='relu',input_shape=(X.shape[1],)),\n",
        "       tf.keras.layers.Dense(4,activation='relu'), \n",
        "       tf.keras.layers.Dense(1)                  \n",
        "])"
      ],
      "execution_count": null,
      "outputs": []
    },
    {
      "cell_type": "code",
      "metadata": {
        "colab": {
          "base_uri": "https://localhost:8080/"
        },
        "id": "7lEPqSdRNjaw",
        "outputId": "d446ba01-0b5b-43c7-c5ec-7efa4cab47e8"
      },
      "source": [
        "#to show summary of neural network use inbuilt method summary()\n",
        "model.summary()"
      ],
      "execution_count": null,
      "outputs": [
        {
          "output_type": "stream",
          "text": [
            "Model: \"sequential\"\n",
            "_________________________________________________________________\n",
            "Layer (type)                 Output Shape              Param #   \n",
            "=================================================================\n",
            "dense (Dense)                (None, 3)                 15        \n",
            "_________________________________________________________________\n",
            "dense_1 (Dense)              (None, 4)                 16        \n",
            "_________________________________________________________________\n",
            "dense_2 (Dense)              (None, 1)                 5         \n",
            "=================================================================\n",
            "Total params: 36\n",
            "Trainable params: 36\n",
            "Non-trainable params: 0\n",
            "_________________________________________________________________\n"
          ],
          "name": "stdout"
        }
      ]
    },
    {
      "cell_type": "markdown",
      "metadata": {
        "id": "OSDicWOeQ9St"
      },
      "source": [
        "Param # total input : 4 it is send into First hidden layer : how many neurons =3 means 43 =12 and bias =3 bias of each newron , total 3 newrons =3 means bias =3 43+bias 12+3=15\n",
        "\n",
        "2nd hidden layer\n",
        "\n",
        "3*4+4=12+4=16\n",
        "\n",
        "3rd output layer = 4*1+1=5"
      ]
    },
    {
      "cell_type": "code",
      "metadata": {
        "colab": {
          "base_uri": "https://localhost:8080/"
        },
        "id": "yKbq7l5BQWUX",
        "outputId": "bd7be36e-e70f-4258-d5b9-11f6d1a238f8"
      },
      "source": [
        "X.shape[1] #no. of columns in input features"
      ],
      "execution_count": null,
      "outputs": [
        {
          "output_type": "execute_result",
          "data": {
            "text/plain": [
              "4"
            ]
          },
          "metadata": {
            "tags": []
          },
          "execution_count": 20
        }
      ]
    },
    {
      "cell_type": "code",
      "metadata": {
        "colab": {
          "base_uri": "https://localhost:8080/"
        },
        "id": "1fmXaTKoRI-u",
        "outputId": "1616b88b-190a-4119-e854-8759eef972b3"
      },
      "source": [
        "X.shape[0] #no. of records"
      ],
      "execution_count": null,
      "outputs": [
        {
          "output_type": "execute_result",
          "data": {
            "text/plain": [
              "48"
            ]
          },
          "metadata": {
            "tags": []
          },
          "execution_count": 21
        }
      ]
    },
    {
      "cell_type": "code",
      "metadata": {
        "id": "vEQiSZdaRNDA"
      },
      "source": [
        "#complie the model\n",
        "model.compile(optimizer=\"sgd\", loss=\"mse\")"
      ],
      "execution_count": null,
      "outputs": []
    },
    {
      "cell_type": "code",
      "metadata": {
        "colab": {
          "base_uri": "https://localhost:8080/"
        },
        "id": "nxrh7mvmSeWe",
        "outputId": "96aa1af1-9eac-4a1d-e8a7-1d6d7f47f9f4"
      },
      "source": [
        "#train the model\n",
        "trained_model = model.fit(X_train, Y_train, epochs=50) \n",
        "#epochs means iteration , 1 epochs=1 Forward propagation +1 backward propagation"
      ],
      "execution_count": null,
      "outputs": [
        {
          "output_type": "stream",
          "text": [
            "Epoch 1/50\n",
            "2/2 [==============================] - 0s 5ms/step - loss: 345646.1979\n",
            "Epoch 2/50\n",
            "2/2 [==============================] - 0s 5ms/step - loss: 23503145642.6667\n",
            "Epoch 3/50\n",
            "2/2 [==============================] - 0s 2ms/step - loss: 7998100.6667\n",
            "Epoch 4/50\n",
            "2/2 [==============================] - 0s 3ms/step - loss: 7399895.0000\n",
            "Epoch 5/50\n",
            "2/2 [==============================] - 0s 3ms/step - loss: 6814154.6667\n",
            "Epoch 6/50\n",
            "2/2 [==============================] - 0s 4ms/step - loss: 6304362.5000\n",
            "Epoch 7/50\n",
            "2/2 [==============================] - 0s 2ms/step - loss: 5797488.1667\n",
            "Epoch 8/50\n",
            "2/2 [==============================] - 0s 3ms/step - loss: 5351470.3333\n",
            "Epoch 9/50\n",
            "2/2 [==============================] - 0s 3ms/step - loss: 4933732.3333\n",
            "Epoch 10/50\n",
            "2/2 [==============================] - 0s 7ms/step - loss: 4523868.6667\n",
            "Epoch 11/50\n",
            "2/2 [==============================] - 0s 4ms/step - loss: 4184118.8333\n",
            "Epoch 12/50\n",
            "2/2 [==============================] - 0s 4ms/step - loss: 3864918.0000\n",
            "Epoch 13/50\n",
            "2/2 [==============================] - 0s 2ms/step - loss: 3561621.1667\n",
            "Epoch 14/50\n",
            "2/2 [==============================] - 0s 2ms/step - loss: 3298247.1667\n",
            "Epoch 15/50\n",
            "2/2 [==============================] - 0s 3ms/step - loss: 3046509.5000\n",
            "Epoch 16/50\n",
            "2/2 [==============================] - 0s 4ms/step - loss: 2798146.9167\n",
            "Epoch 17/50\n",
            "2/2 [==============================] - 0s 4ms/step - loss: 2572626.9167\n",
            "Epoch 18/50\n",
            "2/2 [==============================] - 0s 3ms/step - loss: 2391896.6667\n",
            "Epoch 19/50\n",
            "2/2 [==============================] - 0s 3ms/step - loss: 2197895.0833\n",
            "Epoch 20/50\n",
            "2/2 [==============================] - 0s 3ms/step - loss: 2030750.5000\n",
            "Epoch 21/50\n",
            "2/2 [==============================] - 0s 10ms/step - loss: 1879497.1667\n",
            "Epoch 22/50\n",
            "2/2 [==============================] - 0s 4ms/step - loss: 1731579.2083\n",
            "Epoch 23/50\n",
            "2/2 [==============================] - 0s 3ms/step - loss: 1586233.7917\n",
            "Epoch 24/50\n",
            "2/2 [==============================] - 0s 3ms/step - loss: 1463265.9167\n",
            "Epoch 25/50\n",
            "2/2 [==============================] - 0s 8ms/step - loss: 1362935.3750\n",
            "Epoch 26/50\n",
            "2/2 [==============================] - 0s 7ms/step - loss: 1253159.3750\n",
            "Epoch 27/50\n",
            "2/2 [==============================] - 0s 6ms/step - loss: 1161061.7917\n",
            "Epoch 28/50\n",
            "2/2 [==============================] - 0s 6ms/step - loss: 1067019.0833\n",
            "Epoch 29/50\n",
            "2/2 [==============================] - 0s 5ms/step - loss: 984020.3333\n",
            "Epoch 30/50\n",
            "2/2 [==============================] - 0s 3ms/step - loss: 917581.7500\n",
            "Epoch 31/50\n",
            "2/2 [==============================] - 0s 7ms/step - loss: 841704.8958\n",
            "Epoch 32/50\n",
            "2/2 [==============================] - 0s 3ms/step - loss: 778030.8750\n",
            "Epoch 33/50\n",
            "2/2 [==============================] - 0s 5ms/step - loss: 709726.9167\n",
            "Epoch 34/50\n",
            "2/2 [==============================] - 0s 3ms/step - loss: 663207.2083\n",
            "Epoch 35/50\n",
            "2/2 [==============================] - 0s 4ms/step - loss: 619567.4375\n",
            "Epoch 36/50\n",
            "2/2 [==============================] - 0s 3ms/step - loss: 566282.8958\n",
            "Epoch 37/50\n",
            "2/2 [==============================] - 0s 3ms/step - loss: 521734.1250\n",
            "Epoch 38/50\n",
            "2/2 [==============================] - 0s 5ms/step - loss: 486303.1562\n",
            "Epoch 39/50\n",
            "2/2 [==============================] - 0s 5ms/step - loss: 446128.1042\n",
            "Epoch 40/50\n",
            "2/2 [==============================] - 0s 3ms/step - loss: 404835.0625\n",
            "Epoch 41/50\n",
            "2/2 [==============================] - 0s 4ms/step - loss: 383610.1667\n",
            "Epoch 42/50\n",
            "2/2 [==============================] - 0s 4ms/step - loss: 349703.9583\n",
            "Epoch 43/50\n",
            "2/2 [==============================] - 0s 5ms/step - loss: 326388.3750\n",
            "Epoch 44/50\n",
            "2/2 [==============================] - 0s 8ms/step - loss: 298123.9167\n",
            "Epoch 45/50\n",
            "2/2 [==============================] - 0s 3ms/step - loss: 282954.4271\n",
            "Epoch 46/50\n",
            "2/2 [==============================] - 0s 3ms/step - loss: 259486.7083\n",
            "Epoch 47/50\n",
            "2/2 [==============================] - 0s 5ms/step - loss: 238312.2188\n",
            "Epoch 48/50\n",
            "2/2 [==============================] - 0s 7ms/step - loss: 224632.6250\n",
            "Epoch 49/50\n",
            "2/2 [==============================] - 0s 9ms/step - loss: 204518.5000\n",
            "Epoch 50/50\n",
            "2/2 [==============================] - 0s 6ms/step - loss: 190091.1719\n"
          ],
          "name": "stdout"
        }
      ]
    },
    {
      "cell_type": "code",
      "metadata": {
        "id": "gXmgVeqPVeT0",
        "colab": {
          "base_uri": "https://localhost:8080/"
        },
        "outputId": "93914963-dee2-4366-f0bf-3362ffba903e"
      },
      "source": [
        "trained_model.history[\"loss\"]"
      ],
      "execution_count": null,
      "outputs": [
        {
          "output_type": "execute_result",
          "data": {
            "text/plain": [
              "[346549.09375,\n",
              " 22121105408.0,\n",
              " 7975212.5,\n",
              " 7359395.5,\n",
              " 6794638.5,\n",
              " 6270113.0,\n",
              " 5788740.0,\n",
              " 5339596.0,\n",
              " 4926159.5,\n",
              " 4543178.5,\n",
              " 4185350.0,\n",
              " 3859270.0,\n",
              " 3559800.0,\n",
              " 3283513.0,\n",
              " 3031611.0,\n",
              " 2798827.25,\n",
              " 2580580.75,\n",
              " 2379032.75,\n",
              " 2196919.0,\n",
              " 2026505.5,\n",
              " 1870350.5,\n",
              " 1727202.5,\n",
              " 1593807.125,\n",
              " 1468669.875,\n",
              " 1354389.625,\n",
              " 1251423.375,\n",
              " 1155180.375,\n",
              " 1067096.125,\n",
              " 984762.4375,\n",
              " 908913.25,\n",
              " 840772.0,\n",
              " 776423.125,\n",
              " 716807.0625,\n",
              " 660788.3125,\n",
              " 610997.375,\n",
              " 566072.1875,\n",
              " 522823.09375,\n",
              " 482942.78125,\n",
              " 447307.84375,\n",
              " 412736.40625,\n",
              " 380229.1875,\n",
              " 352064.90625,\n",
              " 325039.03125,\n",
              " 300829.0,\n",
              " 278219.59375,\n",
              " 258552.234375,\n",
              " 239646.84375,\n",
              " 221835.46875,\n",
              " 206076.03125,\n",
              " 190600.9375]"
            ]
          },
          "metadata": {
            "tags": []
          },
          "execution_count": 24
        }
      ]
    },
    {
      "cell_type": "code",
      "metadata": {
        "colab": {
          "base_uri": "https://localhost:8080/",
          "height": 276
        },
        "id": "c6iLM65jbkLn",
        "outputId": "b92217f2-7d96-4a59-85b2-96f87c4c8921"
      },
      "source": [
        "plt.plot(trained_model.history[\"loss\"]) #visualise loss function in line graph\n",
        "plt.show()"
      ],
      "execution_count": null,
      "outputs": [
        {
          "output_type": "display_data",
          "data": {
            "image/png": "[encoded data removed]",
            "text/plain": [
              "<Figure size 432x288 with 1 Axes>"
            ]
          },
          "metadata": {
            "tags": [],
            "needs_background": "light"
          }
        }
      ]
    },
    {
      "cell_type": "code",
      "metadata": {
        "id": "PrMEVUkQbhdK"
      },
      "source": [
        "#Test the model\n",
        "Y_pred = model.predict(X_test)"
      ],
      "execution_count": null,
      "outputs": []
    },
    {
      "cell_type": "code",
      "metadata": {
        "colab": {
          "base_uri": "https://localhost:8080/"
        },
        "id": "Hz4XG0lDb3S6",
        "outputId": "fc28e72f-2cde-41b8-dcee-499e37eb8872"
      },
      "source": [
        "from sklearn.metrics import mean_squared_error\n",
        "mean_squared_error(Y_test,Y_pred)"
      ],
      "execution_count": null,
      "outputs": [
        {
          "output_type": "execute_result",
          "data": {
            "text/plain": [
              "142977.7058835961"
            ]
          },
          "metadata": {
            "tags": []
          },
          "execution_count": 27
        }
      ]
    },
    {
      "cell_type": "code",
      "metadata": {
        "id": "KHWMPLrWb08i",
        "colab": {
          "base_uri": "https://localhost:8080/"
        },
        "outputId": "b505d1ee-51e3-43e1-a1fb-93def5ecf403"
      },
      "source": [
        "from sklearn.metrics import r2_score\n",
        "r2_score(Y_test,Y_pred)  #if relu AF if (-ve) then 0  otherwise"
      ],
      "execution_count": null,
      "outputs": [
        {
          "output_type": "execute_result",
          "data": {
            "text/plain": [
              "-23.401257779514097"
            ]
          },
          "metadata": {
            "tags": []
          },
          "execution_count": 28
        }
      ]
    },
    {
      "cell_type": "code",
      "metadata": {
        "colab": {
          "base_uri": "https://localhost:8080/"
        },
        "id": "JlFLESemdn6y",
        "outputId": "55fab62d-df27-4381-9f7e-90e27c5e3c6a"
      },
      "source": [
        "#Training error find \n",
        "Y_pred_training=model.predict(X_train)\n",
        "mean_squared_error(Y_train,Y_pred_training)"
      ],
      "execution_count": null,
      "outputs": [
        {
          "output_type": "execute_result",
          "data": {
            "text/plain": [
              "177610.8604149746"
            ]
          },
          "metadata": {
            "tags": []
          },
          "execution_count": 29
        }
      ]
    },
    {
      "cell_type": "code",
      "metadata": {
        "colab": {
          "base_uri": "https://localhost:8080/"
        },
        "id": "xsyxHfIRecE7",
        "outputId": "49ab8018-61f6-49c7-9599-be190a965cd3"
      },
      "source": [
        "#Testing error find \n",
        "Y_pred_test=model.predict(X_test)\n",
        "mean_squared_error(Y_test,Y_pred_test)"
      ],
      "execution_count": null,
      "outputs": [
        {
          "output_type": "execute_result",
          "data": {
            "text/plain": [
              "142977.7058835961"
            ]
          },
          "metadata": {
            "tags": []
          },
          "execution_count": 30
        }
      ]
    },
    {
      "cell_type": "code",
      "metadata": {
        "id": "tbx189ESeisz"
      },
      "source": [
        ""
      ],
      "execution_count": null,
      "outputs": []
    }
  ]
}